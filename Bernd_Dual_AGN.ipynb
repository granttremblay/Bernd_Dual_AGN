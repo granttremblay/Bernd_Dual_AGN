{
 "cells": [
  {
   "cell_type": "markdown",
   "metadata": {},
   "source": [
    "### *Chandra* and *Lynx* mock observations for Bernd Husemann's cool dual AGN at z=3.3\n",
    "\n",
    "#### [Grant R. Tremblay](http://www.granttremblay.com) | Harvard-Smithsonian Center for Astrophysics | gtremblay@cfa.harvard.edu"
   ]
  },
  {
   "cell_type": "markdown",
   "metadata": {},
   "source": [
    "Bernd Husemann, using a new VLT/MUSE observation, has discovered that [LBQS 0302-0019](http://ned.ipac.caltech.edu/ui/?q=objsearch&corr_z=1&list_limit=5&extend=no&out_csys=Equatorial&hconst=73&objname=LBQS%200302-0019&out_equinox=J2000.0&img_stamp=YES&omegav=0.73&obj_sort=RA%20or%20Longitude&omegam=0.27&of=pre_text), a famous quasar at $z=3.3$, is actually a dual AGN. \n",
    "\n",
    "Both AGN are at a common redshift of $z=3.3$, with an angular (physical) separation of $2.9''$ ($\\sim20$ kpc). We want to simulate a *Chandra* and *Lynx* observation of this system. Let's gather what we'll need to accomplish that. \n",
    "\n",
    "\n",
    "These are MUSE Ly$\\alpha$ and HeII line images from his paper: \n",
    "\n",
    "\n",
    "![We want to make this](images/whatwewant.png)\n",
    "\n",
    "Unfortunately, although this is a very well studied AGN, the ROSAT observation is a no-go: \n",
    "\n",
    "![Damn](images/impey.png)\n",
    "\n",
    "... and the recent XMM observation is still proprietary: \n",
    "\n",
    "\n",
    "\n",
    "![Damn2](images/xmm.png)\n",
    "\n",
    "There is no existing *Chandra* observation. \n",
    "\n",
    "[It is, however, in the XMM Source Catalog](http://xmm-catalog.irap.omp.eu/source/202031602010002). \n",
    "\n",
    "\n",
    "![Damn2](images/xmm_sc.png)\n",
    "\n",
    "\n",
    "Looks like the EPIC 0.2-12 keV flux is 1.04328e-13 erg/cm2/s. For the time being, let's go with that. \n"
   ]
  },
  {
   "cell_type": "markdown",
   "metadata": {},
   "source": [
    "### I am assuming a $0.2-12$ keV flux of $1.04328 \\times 10^{-13}$ erg/s/cm2 with a photon index of 1.8 for the bright source. The faint source will be 600, 800, and 1000 times fainter with the exact same spectrum. "
   ]
  },
  {
   "cell_type": "code",
   "execution_count": 1,
   "metadata": {},
   "outputs": [],
   "source": [
    "import matplotlib.pyplot as plt\n",
    "import soxs\n",
    "\n",
    "#import aplpy\n",
    "\n",
    "import numpy as np"
   ]
  },
  {
   "cell_type": "code",
   "execution_count": 2,
   "metadata": {
    "collapsed": true
   },
   "outputs": [],
   "source": [
    "% matplotlib inline\n",
    "\n",
    "def styleplots():\n",
    "    \"\"\"\n",
    "    Make plots pretty and labels clear. \n",
    "    \"\"\"\n",
    "    plt.style.use('ggplot')\n",
    "\n",
    "    labelsizes = 15\n",
    "\n",
    "    plt.rcParams['font.size'] = labelsizes\n",
    "    plt.rcParams['axes.titlesize'] = 12\n",
    "    plt.rcParams['axes.labelsize'] = labelsizes\n",
    "    plt.rcParams['xtick.labelsize'] = labelsizes\n",
    "    plt.rcParams['ytick.labelsize'] = labelsizes\n",
    "    \n",
    "styleplots() # Make plots pretty"
   ]
  },
  {
   "cell_type": "markdown",
   "metadata": {},
   "source": [
    "### Create a Power-Law spectrum for the bright source\n",
    "\n",
    "__The largest uncertainty is the X-ray flux (normalization) of the main AGN__\n",
    "\n",
    "We'll need to play with this, Bernd!"
   ]
  },
  {
   "cell_type": "code",
   "execution_count": 24,
   "metadata": {
    "collapsed": true
   },
   "outputs": [],
   "source": [
    "bright_flux = 1.04328e-13  # erg/s/cm**2 THIS IS FROM THE EPIC FLUX FROM THE XMM SOURCE CATALOG\n",
    "faint_flux = bright_flux / 60 # MAKE THE OTHER SOURCE 600 TIMES FAINTER"
   ]
  },
  {
   "cell_type": "code",
   "execution_count": 25,
   "metadata": {
    "collapsed": true
   },
   "outputs": [],
   "source": [
    "photon_index = 1.8 # Quasars tend to have alphas of ~1.8\n",
    "norm = 1.0e-10 # Normalization at 1 keV in source frame, in units of photons cm-2 s-1 keV-1 \n",
    "               # We don't care about this because I'm going to renormalize by the EPIC flux\n",
    "zobs = 3.3     # The redshift of both sources\n",
    "emin = 0.2 # keV\n",
    "emax = 12.0 # keV\n",
    "nbins = 30000\n",
    "bright_spec = soxs.Spectrum.from_powerlaw(photon_index, zobs, norm, emin, emax, nbins)"
   ]
  },
  {
   "cell_type": "code",
   "execution_count": 26,
   "metadata": {},
   "outputs": [
    {
     "data": {
      "text/plain": [
       "Spectrum (0.2 keV - 12.0 keV)\n",
       "    Total Flux:\n",
       "    3.155793280439969e-11 ph / (cm2 s)\n",
       "    5.330151130537622e-20 erg / (cm2 s)"
      ]
     },
     "execution_count": 26,
     "metadata": {},
     "output_type": "execute_result"
    }
   ],
   "source": [
    "bright_spec"
   ]
  },
  {
   "cell_type": "code",
   "execution_count": 27,
   "metadata": {
    "collapsed": true
   },
   "outputs": [],
   "source": [
    "faint_spec = soxs.Spectrum.from_powerlaw(photon_index, zobs, norm, emin, emax, nbins)"
   ]
  },
  {
   "cell_type": "markdown",
   "metadata": {},
   "source": [
    "Re-normalize the spectra using energy fluxes between 0.1 and 10 keV"
   ]
  },
  {
   "cell_type": "code",
   "execution_count": 28,
   "metadata": {
    "collapsed": true
   },
   "outputs": [],
   "source": [
    "bright_spec.rescale_flux(bright_flux, emin=0.2, emax=12, flux_type=\"energy\")\n",
    "faint_spec.rescale_flux(faint_flux, emin=0.2, emax=12, flux_type=\"energy\")"
   ]
  },
  {
   "cell_type": "code",
   "execution_count": 29,
   "metadata": {},
   "outputs": [
    {
     "data": {
      "text/plain": [
       "Spectrum (0.2 keV - 12.0 keV)\n",
       "    Total Flux:\n",
       "    6.176890547726979e-05 ph / (cm2 s)\n",
       "    1.04328e-13 erg / (cm2 s)"
      ]
     },
     "execution_count": 29,
     "metadata": {},
     "output_type": "execute_result"
    }
   ],
   "source": [
    "bright_spec"
   ]
  },
  {
   "cell_type": "markdown",
   "metadata": {},
   "source": [
    "Apply foreground absorption to both of them"
   ]
  },
  {
   "cell_type": "code",
   "execution_count": 30,
   "metadata": {
    "collapsed": true
   },
   "outputs": [],
   "source": [
    "milkyway = 0.0648 # x10^22 atoms/cm^2, LAB weighted average for this RA/Dec"
   ]
  },
  {
   "cell_type": "code",
   "execution_count": 31,
   "metadata": {
    "collapsed": true
   },
   "outputs": [],
   "source": [
    "ten23 = 10 # x10^22 atoms/cm^2\n",
    "ten24 = 100 # x10^22 atoms/cm^2"
   ]
  },
  {
   "cell_type": "code",
   "execution_count": 32,
   "metadata": {},
   "outputs": [],
   "source": [
    "bright_spec.apply_foreground_absorption(milkyway)\n",
    "faint_spec.apply_foreground_absorption(ten23)"
   ]
  },
  {
   "cell_type": "markdown",
   "metadata": {},
   "source": [
    "Plot our redshift 3 absorbed powerlaws. "
   ]
  },
  {
   "cell_type": "code",
   "execution_count": 33,
   "metadata": {},
   "outputs": [
    {
     "data": {
      "text/plain": [
       "<matplotlib.legend.Legend at 0x112fe57f0>"
      ]
     },
     "execution_count": 33,
     "metadata": {},
     "output_type": "execute_result"
    },
    {
     "data": {
      "image/png": "[encoded data removed]",
      "text/plain": [
       "<matplotlib.figure.Figure at 0x112ffa2e8>"
      ]
     },
     "metadata": {},
     "output_type": "display_data"
    }
   ],
   "source": [
    "fig, ax = bright_spec.plot(xmin=0.1, xmax=10, ymin=1.0e-11, ymax=1.0e-2, xscale='linear', yscale='log',\n",
    "                     label=\"Brighter Source\")\n",
    "faint_spec.plot(label=\"Fainter Source\",\n",
    "           fig=fig, ax=ax)\n",
    "ax.legend()\n"
   ]
  },
  {
   "cell_type": "markdown",
   "metadata": {
    "collapsed": true
   },
   "source": [
    "### Make a spatial model that resembles the actual source"
   ]
  },
  {
   "cell_type": "code",
   "execution_count": 34,
   "metadata": {
    "collapsed": true
   },
   "outputs": [],
   "source": [
    "ra0 = 46.207 # source RA in degrees\n",
    "dec0 = -0.137 # source Dec in degrees"
   ]
  },
  {
   "cell_type": "code",
   "execution_count": 43,
   "metadata": {
    "collapsed": true
   },
   "outputs": [],
   "source": [
    "# Space the point sources 2.9 arcsec apart on the sky. Try to mimic Bernd's image\n",
    "\n",
    "hypotenuse = 2.9 # arcsec\n",
    "sides = hypotenuse / np.sqrt(2) # arcsec\n",
    "sides_deg = sides / 3600. # convert arcsec to degrees\n",
    "\n",
    "ra1 = ra0 - sides_deg\n",
    "dec1 = dec0 - sides_deg\n",
    "\n",
    "# Now actually create the models\n",
    "pos1 = soxs.PointSourceModel(ra0, dec0)\n",
    "pos2 = soxs.PointSourceModel(ra1, dec1)"
   ]
  },
  {
   "cell_type": "markdown",
   "metadata": {},
   "source": [
    "We now generate energies and positions from these point source models. We want to create a large sample that we'll draw from when we run the instrument simulator, so we choose a stupidly large exposure time and a large collecting area (should be bigger than the maximum of the ARF). "
   ]
  },
  {
   "cell_type": "code",
   "execution_count": 44,
   "metadata": {
    "collapsed": true
   },
   "outputs": [],
   "source": [
    "impossible_exposure_time = 5000.0 # ksec"
   ]
  },
  {
   "cell_type": "code",
   "execution_count": 45,
   "metadata": {},
   "outputs": [
    {
     "name": "stderr",
     "output_type": "stream",
     "text": [
      "soxs : [INFO     ] 2018-01-11 11:17:32,600 Creating 4545334 energies from this spectrum.\n",
      "soxs : [INFO     ] 2018-01-11 11:17:33,007 Finished creating energies.\n",
      "soxs : [INFO     ] 2018-01-11 11:17:33,221 Creating 8604 energies from this spectrum.\n",
      "soxs : [INFO     ] 2018-01-11 11:17:33,222 Finished creating energies.\n"
     ]
    }
   ],
   "source": [
    "t_exp = (impossible_exposure_time, \"ks\")\n",
    "area = (3.0, \"m**2\") # make a ridiculously large 50 billion dollar fake X-ray telescope\n",
    "agn1 = soxs.PhotonList.from_models(\"agn1\", bright_spec, pos1, t_exp, area)\n",
    "agn2 = soxs.PhotonList.from_models(\"agn2\", faint_spec, pos2, t_exp, area)"
   ]
  },
  {
   "cell_type": "markdown",
   "metadata": {},
   "source": [
    "We can quickly show the positions using the `plot()` method of the PhotonList instances. We'll show a tiny FOV so we can be sure we got the separation right. To make this fast, we'll only plot 1/100th of the counts. "
   ]
  },
  {
   "cell_type": "code",
   "execution_count": 46,
   "metadata": {},
   "outputs": [
    {
     "data": {
      "text/plain": [
       "<matplotlib.legend.Legend at 0x182013a898>"
      ]
     },
     "execution_count": 46,
     "metadata": {},
     "output_type": "execute_result"
    },
    {
     "data": {
      "image/png": "[encoded data removed]",
      "text/plain": [
       "<matplotlib.figure.Figure at 0x181fc164e0>"
      ]
     },
     "metadata": {},
     "output_type": "display_data"
    }
   ],
   "source": [
    "fig, ax = agn1.plot([46.207, -0.137], 0.5, marker='.', stride=100, label=\"Bright AGN\")\n",
    "\n",
    "agn2.plot([46.207, -0.137], 0.5, marker='.', stride=100, fig=fig, ax=ax, label=\"Faint AGN\")\n",
    "ax.legend()"
   ]
  },
  {
   "cell_type": "markdown",
   "metadata": {},
   "source": [
    "The separation is indeed $2.9''$, and even though the placement isn't quite right, we really only care that the separation is right. For now I'll call this close enough. Bernd can play with this ;)"
   ]
  },
  {
   "cell_type": "markdown",
   "metadata": {},
   "source": [
    "Now that we have the positions and the energies of the photons in the PhotonLists, we can write them to a SIMPUT catalog, using the SimputCatalog class. Each cluster will have its own photon list, but be part of the same SIMPUT catalog:"
   ]
  },
  {
   "cell_type": "code",
   "execution_count": 47,
   "metadata": {},
   "outputs": [
    {
     "name": "stderr",
     "output_type": "stream",
     "text": [
      "soxs : [INFO     ] 2018-01-11 11:17:38,438 Writing SIMPUT catalog file bernds_simulated_agn_simput.fits.\n",
      "soxs : [INFO     ] 2018-01-11 11:17:38,440 Writing SIMPUT photon list file agn1_phlist.fits.\n",
      "soxs : [INFO     ] 2018-01-11 11:17:38,704 Writing SIMPUT photon list file agn2_phlist.fits.\n"
     ]
    }
   ],
   "source": [
    "# Create the SIMPUT catalog \"sim_cat\" from the photon lists \"agn1\" and \"agn2\"\n",
    "sim_cat = soxs.SimputCatalog(\"bernds_simulated_agn\", [agn1, agn2])\n",
    "# Write the catalog to a file \"bernds_simulated_agn_simput.fits\"\n",
    "sim_cat.write_catalog(overwrite=True)"
   ]
  },
  {
   "cell_type": "markdown",
   "metadata": {},
   "source": [
    "Finally, we can use the instrument simulator to simulate the two clusters by ingesting the SIMPUT file, setting an output file \"evt.fits\", setting an exposure time of 500 ks (less than the one we used to generate the source). \n",
    "\n",
    "We'll use *Chandra* ACIS-I as well as the *Lynx* HDXI. "
   ]
  },
  {
   "cell_type": "code",
   "execution_count": 48,
   "metadata": {
    "collapsed": true
   },
   "outputs": [],
   "source": [
    "exposure_time = 500 # ksec"
   ]
  },
  {
   "cell_type": "code",
   "execution_count": 49,
   "metadata": {},
   "outputs": [
    {
     "name": "stderr",
     "output_type": "stream",
     "text": [
      "soxs : [INFO     ] 2018-01-11 11:17:39,886 Making observation of source in CHANDRA_evt.fits.\n",
      "soxs : [INFO     ] 2018-01-11 11:17:39,970 Detecting events from source agn1.\n",
      "soxs : [INFO     ] 2018-01-11 11:17:39,971 Applying energy-dependent effective area from acisi_aimpt_cy19.arf.\n",
      "soxs : [INFO     ] 2018-01-11 11:17:40,167 2081 events detected.\n",
      "soxs : [INFO     ] 2018-01-11 11:17:40,174 Pixeling events.\n",
      "soxs : [INFO     ] 2018-01-11 11:17:40,175 0 events were rejected because they do not fall on any CCD.\n",
      "soxs : [INFO     ] 2018-01-11 11:17:40,176 Detecting events from source agn2.\n",
      "soxs : [INFO     ] 2018-01-11 11:17:40,177 Applying energy-dependent effective area from acisi_aimpt_cy19.arf.\n",
      "soxs : [INFO     ] 2018-01-11 11:17:40,179 4 events detected.\n",
      "soxs : [INFO     ] 2018-01-11 11:17:40,179 Pixeling events.\n",
      "soxs : [INFO     ] 2018-01-11 11:17:40,181 0 events were rejected because they do not fall on any CCD.\n",
      "soxs : [INFO     ] 2018-01-11 11:17:40,181 Scattering energies with RMF acisi_aimpt_cy19.rmf.\n",
      "Scattering energies : 100%|██████████| 2085/2085 [00:00<00:00, 11362.34it/s]\n",
      "soxs : [INFO     ] 2018-01-11 11:17:40,370 Adding background events.\n",
      "soxs : [INFO     ] 2018-01-11 11:17:40,420 Adding in point-source background.\n",
      "soxs : [INFO     ] 2018-01-11 11:17:41,081 Detecting events from source ptsrc_bkgnd.\n",
      "soxs : [INFO     ] 2018-01-11 11:17:41,082 Applying energy-dependent effective area from acisi_aimpt_cy19.arf.\n",
      "soxs : [INFO     ] 2018-01-11 11:17:41,093 38180 events detected.\n",
      "soxs : [INFO     ] 2018-01-11 11:17:41,096 Pixeling events.\n",
      "soxs : [INFO     ] 2018-01-11 11:17:41,109 11450 events were rejected because they do not fall on any CCD.\n",
      "soxs : [INFO     ] 2018-01-11 11:17:41,114 Scattering energies with RMF acisi_aimpt_cy19.rmf.\n",
      "Scattering energies : 100%|██████████| 26730/26730 [00:00<00:00, 138634.70it/s]\n",
      "soxs : [INFO     ] 2018-01-11 11:17:41,315 Generated 26730 photons from the point-source background.\n",
      "soxs : [INFO     ] 2018-01-11 11:17:41,316 Adding in astrophysical foreground.\n",
      "soxs : [INFO     ] 2018-01-11 11:17:41,321 Making 1359 events from the astrophysical foreground.\n",
      "soxs : [INFO     ] 2018-01-11 11:17:41,322 Scattering energies with RMF acisi_aimpt_cy19.rmf.\n",
      "Scattering energies : 100%|██████████| 1359/1359 [00:00<00:00, 13563.82it/s]\n",
      "soxs : [INFO     ] 2018-01-11 11:17:41,509 Adding in instrumental background.\n",
      "soxs : [INFO     ] 2018-01-11 11:17:41,907 Making 607731 events from the instrumental background.\n",
      "soxs : [INFO     ] 2018-01-11 11:17:41,953 Scattering energies with RMF acisi_aimpt_cy19.rmf.\n",
      "Scattering energies :  97%|█████████▋| 590441/607731 [00:00<00:00, 918567.10it/s]\n",
      "soxs : [INFO     ] 2018-01-11 11:17:42,667 Writing events to file CHANDRA_evt.fits.\n",
      "soxs : [INFO     ] 2018-01-11 11:17:42,817 Observation complete.\n"
     ]
    }
   ],
   "source": [
    "soxs.instrument_simulator(\"bernds_simulated_agn_simput.fits\", \"CHANDRA_evt.fits\", (exposure_time, \"ks\"), \"acisi_cy19\", [46.207, -0.137], overwrite=True)"
   ]
  },
  {
   "cell_type": "code",
   "execution_count": 50,
   "metadata": {},
   "outputs": [
    {
     "name": "stderr",
     "output_type": "stream",
     "text": [
      "soxs : [INFO     ] 2018-01-11 11:18:16,323 Making observation of source in LYNX_evt.fits.\n",
      "soxs : [INFO     ] 2018-01-11 11:18:16,394 Detecting events from source agn1.\n",
      "soxs : [INFO     ] 2018-01-11 11:18:16,395 Applying energy-dependent effective area from xrs_hdxi_3x10.arf.\n",
      "soxs : [INFO     ] 2018-01-11 11:18:16,681 228745 events detected.\n",
      "soxs : [INFO     ] 2018-01-11 11:18:16,706 Pixeling events.\n",
      "soxs : [INFO     ] 2018-01-11 11:18:16,742 0 events were rejected because they do not fall on any CCD.\n",
      "soxs : [INFO     ] 2018-01-11 11:18:16,762 Detecting events from source agn2.\n",
      "soxs : [INFO     ] 2018-01-11 11:18:16,763 Applying energy-dependent effective area from xrs_hdxi_3x10.arf.\n",
      "soxs : [INFO     ] 2018-01-11 11:18:16,765 48 events detected.\n",
      "soxs : [INFO     ] 2018-01-11 11:18:16,766 Pixeling events.\n",
      "soxs : [INFO     ] 2018-01-11 11:18:16,772 0 events were rejected because they do not fall on any CCD.\n",
      "soxs : [INFO     ] 2018-01-11 11:18:16,776 Scattering energies with RMF xrs_hdxi.rmf.\n",
      "Scattering energies : 100%|██████████| 228793/228793 [00:02<00:00, 113874.50it/s]\n",
      "soxs : [INFO     ] 2018-01-11 11:18:18,824 Adding background events.\n",
      "soxs : [INFO     ] 2018-01-11 11:18:18,870 Adding in point-source background.\n",
      "soxs : [INFO     ] 2018-01-11 11:18:29,511 Detecting events from source ptsrc_bkgnd.\n",
      "soxs : [INFO     ] 2018-01-11 11:18:29,512 Applying energy-dependent effective area from xrs_hdxi_3x10.arf.\n",
      "soxs : [INFO     ] 2018-01-11 11:18:30,840 5643596 events detected.\n",
      "soxs : [INFO     ] 2018-01-11 11:18:31,115 Pixeling events.\n",
      "soxs : [INFO     ] 2018-01-11 11:18:32,614 103411 events were rejected because they do not fall on any CCD.\n",
      "soxs : [INFO     ] 2018-01-11 11:18:33,097 Scattering energies with RMF xrs_hdxi.rmf.\n",
      "Scattering energies : 100%|██████████| 5540185/5540185 [00:10<00:00, 504742.24it/s] \n",
      "soxs : [INFO     ] 2018-01-11 11:18:45,492 Generated 5540185 photons from the point-source background.\n",
      "soxs : [INFO     ] 2018-01-11 11:18:45,493 Adding in astrophysical foreground.\n",
      "soxs : [INFO     ] 2018-01-11 11:18:51,473 Making 41870680 events from the astrophysical foreground.\n",
      "soxs : [INFO     ] 2018-01-11 11:18:55,758 Scattering energies with RMF xrs_hdxi.rmf.\n",
      "Scattering energies : 100%|██████████| 41870680/41870680 [00:19<00:00, 2158826.43it/s]\n",
      "soxs : [INFO     ] 2018-01-11 11:19:19,810 Adding in instrumental background.\n",
      "soxs : [INFO     ] 2018-01-11 11:19:19,904 Making 861429 events from the instrumental background.\n",
      "soxs : [INFO     ] 2018-01-11 11:19:19,968 Scattering energies with RMF xrs_hdxi.rmf.\n",
      "Scattering energies : 100%|██████████| 861429/861429 [00:09<00:00, 92326.37it/s] \n",
      "soxs : [INFO     ] 2018-01-11 11:19:32,672 Writing events to file LYNX_evt.fits.\n",
      "soxs : [INFO     ] 2018-01-11 11:19:44,176 Observation complete.\n"
     ]
    }
   ],
   "source": [
    "soxs.instrument_simulator(\"bernds_simulated_agn_simput.fits\", \"LYNX_evt.fits\", (exposure_time, \"ks\"), \"hdxi\", [46.207, -0.137], overwrite=True)"
   ]
  },
  {
   "cell_type": "markdown",
   "metadata": {},
   "source": [
    "We can use the `write_image()` function in SOXS to bin the events into an image and write them to a file, restricting the energies between 0.5 and 10.0 keV (appropriate for a Chandra proposal):"
   ]
  },
  {
   "cell_type": "code",
   "execution_count": 51,
   "metadata": {
    "collapsed": true
   },
   "outputs": [],
   "source": [
    "soxs.write_image(\"CHANDRA_evt.fits\", \"CHANDRA_proposal_img.fits\", emin=0.5, emax=10.0, overwrite=True)\n",
    "soxs.write_image(\"LYNX_evt.fits\", \"LYNX_proposal_img.fits\", emin=0.5, emax=10.0, overwrite=True)"
   ]
  },
  {
   "cell_type": "code",
   "execution_count": 23,
   "metadata": {},
   "outputs": [
    {
     "ename": "NameError",
     "evalue": "name 'aplpy' is not defined",
     "output_type": "error",
     "traceback": [
      "\u001b[0;31m---------------------------------------------------------------------------\u001b[0m",
      "\u001b[0;31mNameError\u001b[0m                                 Traceback (most recent call last)",
      "\u001b[0;32m<ipython-input-23-af70ca14f530>\u001b[0m in \u001b[0;36m<module>\u001b[0;34m()\u001b[0m\n\u001b[0;32m----> 1\u001b[0;31m \u001b[0mfig\u001b[0m \u001b[0;34m=\u001b[0m \u001b[0maplpy\u001b[0m\u001b[0;34m.\u001b[0m\u001b[0mFITSFigure\u001b[0m\u001b[0;34m(\u001b[0m\u001b[0;34m\"LYNX_proposal_img.fits\"\u001b[0m\u001b[0;34m)\u001b[0m\u001b[0;34m\u001b[0m\u001b[0m\n\u001b[0m\u001b[1;32m      2\u001b[0m \u001b[0mfig\u001b[0m\u001b[0;34m.\u001b[0m\u001b[0mshow_colorscale\u001b[0m\u001b[0;34m(\u001b[0m\u001b[0mvmin\u001b[0m\u001b[0;34m=\u001b[0m\u001b[0;36m0.1\u001b[0m\u001b[0;34m,\u001b[0m \u001b[0mvmax\u001b[0m\u001b[0;34m=\u001b[0m\u001b[0;36m10.0\u001b[0m\u001b[0;34m,\u001b[0m \u001b[0mstretch\u001b[0m\u001b[0;34m=\u001b[0m\u001b[0;34m'log'\u001b[0m\u001b[0;34m,\u001b[0m \u001b[0mcmap\u001b[0m\u001b[0;34m=\u001b[0m\u001b[0;34m\"viridis\"\u001b[0m\u001b[0;34m)\u001b[0m\u001b[0;34m\u001b[0m\u001b[0m\n\u001b[1;32m      3\u001b[0m \u001b[0mfig\u001b[0m\u001b[0;34m.\u001b[0m\u001b[0mrecenter\u001b[0m\u001b[0;34m(\u001b[0m\u001b[0;36m46.207\u001b[0m\u001b[0;34m,\u001b[0m \u001b[0;34m-\u001b[0m\u001b[0;36m0.137\u001b[0m\u001b[0;34m,\u001b[0m \u001b[0mwidth\u001b[0m\u001b[0;34m=\u001b[0m\u001b[0;36m0.005\u001b[0m\u001b[0;34m,\u001b[0m \u001b[0mheight\u001b[0m\u001b[0;34m=\u001b[0m\u001b[0;36m0.005\u001b[0m\u001b[0;34m)\u001b[0m \u001b[0;31m# Centered on the source center with a width of 6 arcmin\u001b[0m\u001b[0;34m\u001b[0m\u001b[0m\n",
      "\u001b[0;31mNameError\u001b[0m: name 'aplpy' is not defined"
     ]
    }
   ],
   "source": [
    "fig = aplpy.FITSFigure(\"LYNX_proposal_img.fits\")\n",
    "fig.show_colorscale(vmin=0.1, vmax=10.0, stretch='log', cmap=\"viridis\")\n",
    "fig.recenter(46.207, -0.137, width=0.005, height=0.005) # Centered on the source center with a width of 6 arcmin"
   ]
  },
  {
   "cell_type": "code",
   "execution_count": null,
   "metadata": {
    "collapsed": true
   },
   "outputs": [],
   "source": []
  }
 ],
 "metadata": {
  "kernelspec": {
   "display_name": "Python 3",
   "language": "python",
   "name": "python3"
  },
  "language_info": {
   "codemirror_mode": {
    "name": "ipython",
    "version": 3
   },
   "file_extension": ".py",
   "mimetype": "text/x-python",
   "name": "python",
   "nbconvert_exporter": "python",
   "pygments_lexer": "ipython3",
   "version": "3.6.3"
  }
 },
 "nbformat": 4,
 "nbformat_minor": 2
}
