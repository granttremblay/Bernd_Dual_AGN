{
 "cells": [
  {
   "cell_type": "markdown",
   "metadata": {},
   "source": [
    "### Making *Chandra* and *Lynx* Mock Observations for Bernd Husemann's cool Dual AGN at z=3.3"
   ]
  },
  {
   "cell_type": "markdown",
   "metadata": {},
   "source": [
    "The source is [LBQS 0302-0019](http://ned.ipac.caltech.edu/ui/?q=objsearch&corr_z=1&list_limit=5&extend=no&out_csys=Equatorial&hconst=73&objname=LBQS%200302-0019&out_equinox=J2000.0&img_stamp=YES&omegav=0.73&obj_sort=RA%20or%20Longitude&omegam=0.27&of=pre_text) (NED link). \n",
    "\n",
    "Bernd has discovered that this is a dual AGN at a common redshift of $z=3.3$, with an angular (physical) separation of $2.9''$ ($20$ kpc). We want to simulate a *Chandra* and *Lynx* observation of this system. These are MUSE Ly$\\alpha$ and HeII line images from his paper: \n",
    "\n",
    "\n",
    "![We want to make this](images/whatwewant.png)\n",
    "\n",
    "Unfortunately, although this is a very well studied AGN, the ROSAT observation is a no-go: \n",
    "\n",
    "![Damn](images/impey.png)\n",
    "\n",
    "... and the recent XMM observation is still proprietary: \n",
    "\n",
    "\n",
    "\n",
    "![Damn2](images/xmm.png)\n",
    "\n",
    "There is no existing *Chandra* observation. \n",
    "\n",
    "[It is, however, in the XMM Source Catalog](http://xmm-catalog.irap.omp.eu/source/202031602010002). \n",
    "\n",
    "\n",
    "![Damn2](images/xmm_sc.png)\n",
    "\n",
    "\n",
    "Looks like the EPIC 0.2-12 keV flux is 1.04328e-13 erg/cm2/s. For the time being, let's go with that. \n"
   ]
  },
  {
   "cell_type": "markdown",
   "metadata": {},
   "source": [
    "### I am assuming a $0.2-12$ keV flux of $1.04328 \\times 10^{-13}$ erg/s/cm2 with a photon index of 1.8 for the bright source. The faint source will be 600, 800, and 1000 times fainter with the exact same spectrum. "
   ]
  },
  {
   "cell_type": "code",
   "execution_count": 1,
   "metadata": {},
   "outputs": [
    {
     "name": "stderr",
     "output_type": "stream",
     "text": [
      "/Applications/Anaconda/lib/python3.6/site-packages/matplotlib/cbook/deprecation.py:106: MatplotlibDeprecationWarning: The mpl_toolkits.axes_grid module was deprecated in version 2.1. Use mpl_toolkits.axes_grid1 and mpl_toolkits.axisartist provies the same functionality instead.\n",
      "  warnings.warn(message, mplDeprecation, stacklevel=1)\n"
     ]
    }
   ],
   "source": [
    "import matplotlib.pyplot as plt\n",
    "import soxs\n",
    "\n",
    "import aplpy\n",
    "\n",
    "import numpy as np"
   ]
  },
  {
   "cell_type": "code",
   "execution_count": 2,
   "metadata": {
    "collapsed": true
   },
   "outputs": [],
   "source": [
    "% matplotlib inline\n",
    "\n",
    "def styleplots():\n",
    "    \"\"\"\n",
    "    Make plots pretty and labels clear. \n",
    "    \"\"\"\n",
    "    plt.style.use('ggplot')\n",
    "\n",
    "    labelsizes = 15\n",
    "\n",
    "    plt.rcParams['font.size'] = labelsizes\n",
    "    plt.rcParams['axes.titlesize'] = 12\n",
    "    plt.rcParams['axes.labelsize'] = labelsizes\n",
    "    plt.rcParams['xtick.labelsize'] = labelsizes\n",
    "    plt.rcParams['ytick.labelsize'] = labelsizes\n",
    "    \n",
    "styleplots() # Make plots pretty"
   ]
  },
  {
   "cell_type": "markdown",
   "metadata": {},
   "source": [
    "### Create a Power-Law spectrum for the bright source\n",
    "\n",
    "__The largest uncertainty is the X-ray flux (normalization) of the main AGN__\n",
    "\n",
    "We'll need to play with this, Bernd!"
   ]
  },
  {
   "cell_type": "code",
   "execution_count": 3,
   "metadata": {
    "collapsed": true
   },
   "outputs": [],
   "source": [
    "bright_flux = 1.04328e-13  # erg/s/cm**2 THIS IS FROM THE EPIC FLUX FROM THE XMM SOURCE CATALOG\n",
    "faint_flux = bright_flux / 600 # MAKE THE OTHER SOURCE 600 TIMES FAINTER"
   ]
  },
  {
   "cell_type": "code",
   "execution_count": 4,
   "metadata": {
    "collapsed": true
   },
   "outputs": [],
   "source": [
    "photon_index = 1.8 # Quasars tend to have alphas of ~1.8\n",
    "norm = 1.0e-10 # Normalization at 1 keV in source frame, in units of photons cm-2 s-1 keV-1 \n",
    "               # We don't care about this because I'm going to renormalize by the EPIC flux\n",
    "zobs = 3.3     # The redshift of both sources\n",
    "emin = 0.2 # keV\n",
    "emax = 12.0 # keV\n",
    "nbins = 30000\n",
    "bright_spec = soxs.Spectrum.from_powerlaw(photon_index, zobs, norm, emin, emax, nbins)"
   ]
  },
  {
   "cell_type": "code",
   "execution_count": 5,
   "metadata": {},
   "outputs": [
    {
     "data": {
      "text/plain": [
       "Spectrum (0.2 keV - 12.0 keV)\n",
       "    Total Flux:\n",
       "    3.155793280439969e-11 ph / (cm2 s)\n",
       "    5.330151130537622e-20 erg / (cm2 s)"
      ]
     },
     "execution_count": 5,
     "metadata": {},
     "output_type": "execute_result"
    }
   ],
   "source": [
    "bright_spec"
   ]
  },
  {
   "cell_type": "code",
   "execution_count": 6,
   "metadata": {
    "collapsed": true
   },
   "outputs": [],
   "source": [
    "faint_spec = soxs.Spectrum.from_powerlaw(photon_index, zobs, norm, emin, emax, nbins)"
   ]
  },
  {
   "cell_type": "markdown",
   "metadata": {},
   "source": [
    "Re-normalize the spectra using energy fluxes between 0.1 and 10 keV"
   ]
  },
  {
   "cell_type": "code",
   "execution_count": 7,
   "metadata": {
    "collapsed": true
   },
   "outputs": [],
   "source": [
    "bright_spec.rescale_flux(bright_flux, emin=0.2, emax=12, flux_type=\"energy\")\n",
    "faint_spec.rescale_flux(faint_flux, emin=0.2, emax=12, flux_type=\"energy\")"
   ]
  },
  {
   "cell_type": "code",
   "execution_count": 8,
   "metadata": {},
   "outputs": [
    {
     "data": {
      "text/plain": [
       "Spectrum (0.2 keV - 12.0 keV)\n",
       "    Total Flux:\n",
       "    6.176890547726979e-05 ph / (cm2 s)\n",
       "    1.04328e-13 erg / (cm2 s)"
      ]
     },
     "execution_count": 8,
     "metadata": {},
     "output_type": "execute_result"
    }
   ],
   "source": [
    "bright_spec"
   ]
  },
  {
   "cell_type": "markdown",
   "metadata": {},
   "source": [
    "Apply foreground absorption to both of them"
   ]
  },
  {
   "cell_type": "code",
   "execution_count": 9,
   "metadata": {
    "collapsed": true
   },
   "outputs": [],
   "source": [
    "ten23 = 10 # x10^22 atoms/cm^2\n",
    "ten24 = 100 # x10^22 atoms/cm^2"
   ]
  },
  {
   "cell_type": "code",
   "execution_count": 10,
   "metadata": {
    "collapsed": true
   },
   "outputs": [],
   "source": [
    "bright_spec.apply_foreground_absorption(ten23)\n",
    "faint_spec.apply_foreground_absorption(ten23)"
   ]
  },
  {
   "cell_type": "markdown",
   "metadata": {},
   "source": [
    "Plot our redshift 3 absorbed powerlaws. "
   ]
  },
  {
   "cell_type": "code",
   "execution_count": 11,
   "metadata": {},
   "outputs": [
    {
     "data": {
      "text/plain": [
       "<matplotlib.legend.Legend at 0x181c11d080>"
      ]
     },
     "execution_count": 11,
     "metadata": {},
     "output_type": "execute_result"
    },
    {
     "data": {
      "image/png": "[encoded data removed]",
      "text/plain": [
       "<matplotlib.figure.Figure at 0x181c166828>"
      ]
     },
     "metadata": {},
     "output_type": "display_data"
    }
   ],
   "source": [
    "fig, ax = bright_spec.plot(xmin=0.1, xmax=10, ymin=1.0e-11, ymax=1.0e-6, xscale='linear', yscale='log',\n",
    "                     label=\"Brighter Source\")\n",
    "faint_spec.plot(label=\"Fainter Source\",\n",
    "           fig=fig, ax=ax)\n",
    "ax.legend()\n"
   ]
  },
  {
   "cell_type": "markdown",
   "metadata": {
    "collapsed": true
   },
   "source": [
    "### Make a spatial model that resembles the actual source"
   ]
  },
  {
   "cell_type": "code",
   "execution_count": 12,
   "metadata": {
    "collapsed": true
   },
   "outputs": [],
   "source": [
    "ra0 = 46.207 # source RA in degrees\n",
    "dec0 = -0.137 # source Dec in degrees"
   ]
  },
  {
   "cell_type": "code",
   "execution_count": 13,
   "metadata": {},
   "outputs": [],
   "source": [
    "# Space the point sources 2 arcsec apart on the sky. Try to mimic Bernd's image\n",
    "\n",
    "# Let's say that the other source is \\sqrt(2) arcsec west and \\sqrt(2) arcsec south of the main source\n",
    "\n",
    "offset = 1.4 / 3600. # arcsec converted to degrees\n",
    "ra1 = ra0 + offset\n",
    "dec1 = dec0 + offset\n",
    "\n",
    "# Now actually create the models\n",
    "pos1 = soxs.PointSourceModel(ra0, dec0)\n",
    "pos2 = soxs.PointSourceModel(ra1, dec1)"
   ]
  },
  {
   "cell_type": "markdown",
   "metadata": {},
   "source": [
    "We now generate energies and positions from these point source models. We want to create a large sample that we'll draw from when we run the instrument simulator, so we choose a stupidly large exposure time and a large collecting area (should be bigger than the maximum of the ARF). "
   ]
  },
  {
   "cell_type": "code",
   "execution_count": 14,
   "metadata": {
    "collapsed": true
   },
   "outputs": [],
   "source": [
    "impossible_exposure_time = 5000.0 # ksec"
   ]
  },
  {
   "cell_type": "code",
   "execution_count": 15,
   "metadata": {},
   "outputs": [
    {
     "name": "stderr",
     "output_type": "stream",
     "text": [
      "soxs : [INFO     ] 2018-01-10 23:28:16,755 Creating 518424 energies from this spectrum.\n",
      "soxs : [INFO     ] 2018-01-10 23:28:16,835 Finished creating energies.\n",
      "soxs : [INFO     ] 2018-01-10 23:28:16,874 Creating 847 energies from this spectrum.\n",
      "soxs : [INFO     ] 2018-01-10 23:28:16,876 Finished creating energies.\n"
     ]
    }
   ],
   "source": [
    "t_exp = (impossible_exposure_time, \"ks\")\n",
    "area = (3.0, \"m**2\") # make a ridiculously large 50 billion dollar fake X-ray telescope\n",
    "agn1 = soxs.PhotonList.from_models(\"agn1\", bright_spec, pos1, t_exp, area)\n",
    "agn2 = soxs.PhotonList.from_models(\"agn2\", faint_spec, pos2, t_exp, area)"
   ]
  },
  {
   "cell_type": "markdown",
   "metadata": {},
   "source": [
    "We can quickly show the positions using the `plot()` method of the PhotonList instances. We'll show a tiny FOV so we can be sure we got the separation right. "
   ]
  },
  {
   "cell_type": "code",
   "execution_count": 16,
   "metadata": {},
   "outputs": [
    {
     "data": {
      "text/plain": [
       "<matplotlib.legend.Legend at 0x18163b5668>"
      ]
     },
     "execution_count": 16,
     "metadata": {},
     "output_type": "execute_result"
    },
    {
     "data": {
      "image/png": "[encoded data removed]",
      "text/plain": [
       "<matplotlib.figure.Figure at 0x18201eb8d0>"
      ]
     },
     "metadata": {},
     "output_type": "display_data"
    }
   ],
   "source": [
    "fig, ax = agn1.plot([46.207, -0.137], 0.5, marker='.', stride=1, label=\"Cluster 1\")\n",
    "\n",
    "agn2.plot([46.207, -0.137], 0.5, marker='.', stride=1, fig=fig, ax=ax, label=\"Cluster 2\")\n",
    "ax.legend()"
   ]
  },
  {
   "cell_type": "markdown",
   "metadata": {},
   "source": [
    "For now I'll call this close enough. Bernd can play with this ;)"
   ]
  },
  {
   "cell_type": "markdown",
   "metadata": {},
   "source": [
    "Now that we have the positions and the energies of the photons in the PhotonLists, we can write them to a SIMPUT catalog, using the SimputCatalog class. Each cluster will have its own photon list, but be part of the same SIMPUT catalog:"
   ]
  },
  {
   "cell_type": "code",
   "execution_count": 17,
   "metadata": {},
   "outputs": [
    {
     "name": "stderr",
     "output_type": "stream",
     "text": [
      "soxs : [INFO     ] 2018-01-10 23:28:21,116 Writing SIMPUT catalog file bernds_simulated_agn_simput.fits.\n",
      "soxs : [INFO     ] 2018-01-10 23:28:21,120 Writing SIMPUT photon list file agn1_phlist.fits.\n",
      "soxs : [INFO     ] 2018-01-10 23:28:21,225 Writing SIMPUT photon list file agn2_phlist.fits.\n"
     ]
    }
   ],
   "source": [
    "# Create the SIMPUT catalog \"sim_cat\" from the photon lists \"cluster1\" and \"cluster2\"\n",
    "sim_cat = soxs.SimputCatalog(\"bernds_simulated_agn\", [agn1, agn2])\n",
    "# Write the catalog to a file \"bernds_simulated_agn_simput.fits\"\n",
    "sim_cat.write_catalog(overwrite=True)"
   ]
  },
  {
   "cell_type": "markdown",
   "metadata": {},
   "source": [
    "Finally, we can use the instrument simulator to simulate the two clusters by ingesting the SIMPUT file, setting an output file \"evt.fits\", setting an exposure time of 500 ks (less than the one we used to generate the source). \n",
    "\n",
    "We'll use *Chandra* ACIS-I as well as the *Lynx* HDXI. "
   ]
  },
  {
   "cell_type": "code",
   "execution_count": 18,
   "metadata": {
    "collapsed": true
   },
   "outputs": [],
   "source": [
    "exposure_time = 500 # ksec"
   ]
  },
  {
   "cell_type": "code",
   "execution_count": 19,
   "metadata": {},
   "outputs": [
    {
     "name": "stderr",
     "output_type": "stream",
     "text": [
      "soxs : [INFO     ] 2018-01-10 23:28:21,285 Making observation of source in CHANDRA_evt.fits.\n",
      "soxs : [INFO     ] 2018-01-10 23:28:21,404 Detecting events from source agn1.\n",
      "soxs : [INFO     ] 2018-01-10 23:28:21,405 Applying energy-dependent effective area from acisi_aimpt_cy19.arf.\n",
      "soxs : [INFO     ] 2018-01-10 23:28:21,443 351 events detected.\n",
      "soxs : [INFO     ] 2018-01-10 23:28:21,447 Pixeling events.\n",
      "soxs : [INFO     ] 2018-01-10 23:28:21,449 0 events were rejected because they do not fall on any CCD.\n",
      "soxs : [INFO     ] 2018-01-10 23:28:21,450 Detecting events from source agn2.\n",
      "soxs : [INFO     ] 2018-01-10 23:28:21,452 Applying energy-dependent effective area from acisi_aimpt_cy19.arf.\n",
      "soxs : [INFO     ] 2018-01-10 23:28:21,454 0 events detected.\n",
      "soxs : [WARNING  ] 2018-01-10 23:28:21,456 No events were observed for this source!!!\n",
      "soxs : [INFO     ] 2018-01-10 23:28:21,457 Scattering energies with RMF acisi_aimpt_cy19.rmf.\n",
      "Scattering energies : 100%|██████████| 351/351 [00:00<00:00, 1182.50it/s]\n",
      "soxs : [INFO     ] 2018-01-10 23:28:21,762 Adding background events.\n",
      "soxs : [INFO     ] 2018-01-10 23:28:21,839 Adding in point-source background.\n",
      "soxs : [INFO     ] 2018-01-10 23:28:22,766 Detecting events from source ptsrc_bkgnd.\n",
      "soxs : [INFO     ] 2018-01-10 23:28:22,767 Applying energy-dependent effective area from acisi_aimpt_cy19.arf.\n",
      "soxs : [INFO     ] 2018-01-10 23:28:22,780 35948 events detected.\n",
      "soxs : [INFO     ] 2018-01-10 23:28:22,785 Pixeling events.\n",
      "soxs : [INFO     ] 2018-01-10 23:28:22,812 13557 events were rejected because they do not fall on any CCD.\n",
      "soxs : [INFO     ] 2018-01-10 23:28:22,820 Scattering energies with RMF acisi_aimpt_cy19.rmf.\n",
      "Scattering energies : 100%|██████████| 22391/22391 [00:00<00:00, 72510.45it/s]\n",
      "soxs : [INFO     ] 2018-01-10 23:28:23,148 Generated 22391 photons from the point-source background.\n",
      "soxs : [INFO     ] 2018-01-10 23:28:23,149 Adding in astrophysical foreground.\n",
      "soxs : [INFO     ] 2018-01-10 23:28:23,155 Making 1276 events from the astrophysical foreground.\n",
      "soxs : [INFO     ] 2018-01-10 23:28:23,158 Scattering energies with RMF acisi_aimpt_cy19.rmf.\n",
      "Scattering energies : 100%|██████████| 1276/1276 [00:00<00:00, 4404.66it/s] \n",
      "soxs : [INFO     ] 2018-01-10 23:28:23,455 Adding in instrumental background.\n",
      "soxs : [INFO     ] 2018-01-10 23:28:23,979 Making 608508 events from the instrumental background.\n",
      "soxs : [INFO     ] 2018-01-10 23:28:24,044 Scattering energies with RMF acisi_aimpt_cy19.rmf.\n",
      "Scattering energies :  97%|█████████▋| 591198/608508 [00:00<00:00, 760143.93it/s]\n",
      "soxs : [INFO     ] 2018-01-10 23:28:25,000 Writing events to file CHANDRA_evt.fits.\n",
      "soxs : [INFO     ] 2018-01-10 23:28:25,183 Observation complete.\n"
     ]
    }
   ],
   "source": [
    "soxs.instrument_simulator(\"bernds_simulated_agn_simput.fits\", \"CHANDRA_evt.fits\", (exposure_time, \"ks\"), \"acisi_cy19\", [46.207, -0.137], overwrite=True)"
   ]
  },
  {
   "cell_type": "code",
   "execution_count": 20,
   "metadata": {},
   "outputs": [
    {
     "name": "stderr",
     "output_type": "stream",
     "text": [
      "soxs : [INFO     ] 2018-01-10 23:28:25,202 Making observation of source in LYNX_evt.fits.\n",
      "soxs : [INFO     ] 2018-01-10 23:28:25,371 Detecting events from source agn1.\n",
      "soxs : [INFO     ] 2018-01-10 23:28:25,373 Applying energy-dependent effective area from xrs_hdxi_3x10.arf.\n",
      "soxs : [INFO     ] 2018-01-10 23:28:25,402 3305 events detected.\n",
      "soxs : [INFO     ] 2018-01-10 23:28:25,405 Pixeling events.\n",
      "soxs : [INFO     ] 2018-01-10 23:28:25,410 0 events were rejected because they do not fall on any CCD.\n",
      "soxs : [INFO     ] 2018-01-10 23:28:25,413 Detecting events from source agn2.\n",
      "soxs : [INFO     ] 2018-01-10 23:28:25,415 Applying energy-dependent effective area from xrs_hdxi_3x10.arf.\n",
      "soxs : [INFO     ] 2018-01-10 23:28:25,417 3 events detected.\n",
      "soxs : [INFO     ] 2018-01-10 23:28:25,418 Pixeling events.\n",
      "soxs : [INFO     ] 2018-01-10 23:28:25,419 0 events were rejected because they do not fall on any CCD.\n",
      "soxs : [INFO     ] 2018-01-10 23:28:25,421 Scattering energies with RMF xrs_hdxi.rmf.\n",
      "Scattering energies : 100%|██████████| 3308/3308 [00:02<00:00, 1167.59it/s]\n",
      "soxs : [INFO     ] 2018-01-10 23:28:28,269 Adding background events.\n",
      "soxs : [INFO     ] 2018-01-10 23:28:28,340 Adding in point-source background.\n",
      "soxs : [INFO     ] 2018-01-10 23:28:44,966 Detecting events from source ptsrc_bkgnd.\n",
      "soxs : [INFO     ] 2018-01-10 23:28:44,967 Applying energy-dependent effective area from xrs_hdxi_3x10.arf.\n",
      "soxs : [INFO     ] 2018-01-10 23:28:47,190 6251532 events detected.\n",
      "soxs : [INFO     ] 2018-01-10 23:28:47,696 Pixeling events.\n",
      "soxs : [INFO     ] 2018-01-10 23:28:50,230 14623 events were rejected because they do not fall on any CCD.\n",
      "soxs : [INFO     ] 2018-01-10 23:28:51,007 Scattering energies with RMF xrs_hdxi.rmf.\n",
      "Scattering energies : 100%|██████████| 6236909/6236909 [00:17<00:00, 362726.47it/s]\n",
      "soxs : [INFO     ] 2018-01-10 23:29:10,740 Generated 6236909 photons from the point-source background.\n",
      "soxs : [INFO     ] 2018-01-10 23:29:10,742 Adding in astrophysical foreground.\n",
      "soxs : [INFO     ] 2018-01-10 23:29:20,106 Making 41880999 events from the astrophysical foreground.\n",
      "soxs : [INFO     ] 2018-01-10 23:29:26,426 Scattering energies with RMF xrs_hdxi.rmf.\n",
      "Scattering energies : 100%|██████████| 41880999/41880999 [00:29<00:00, 1440835.60it/s]\n",
      "soxs : [INFO     ] 2018-01-10 23:30:02,195 Adding in instrumental background.\n",
      "soxs : [INFO     ] 2018-01-10 23:30:02,341 Making 862300 events from the instrumental background.\n",
      "soxs : [INFO     ] 2018-01-10 23:30:02,432 Scattering energies with RMF xrs_hdxi.rmf.\n",
      "Scattering energies : 100%|██████████| 862300/862300 [00:13<00:00, 64029.24it/s] \n",
      "soxs : [INFO     ] 2018-01-10 23:30:20,676 Writing events to file LYNX_evt.fits.\n",
      "soxs : [INFO     ] 2018-01-10 23:30:47,407 Observation complete.\n"
     ]
    }
   ],
   "source": [
    "soxs.instrument_simulator(\"bernds_simulated_agn_simput.fits\", \"LYNX_evt.fits\", (exposure_time, \"ks\"), \"hdxi\", [46.207, -0.137], overwrite=True)"
   ]
  },
  {
   "cell_type": "markdown",
   "metadata": {},
   "source": [
    "We can use the `write_image()` function in SOXS to bin the events into an image and write them to a file, restricting the energies between 0.5 and 10.0 keV (appropriate for a Chandra proposal):"
   ]
  },
  {
   "cell_type": "code",
   "execution_count": 21,
   "metadata": {
    "collapsed": true
   },
   "outputs": [],
   "source": [
    "soxs.write_image(\"CHANDRA_evt.fits\", \"CHANDRA_proposal_img.fits\", emin=0.5, emax=10.0, overwrite=True)\n",
    "soxs.write_image(\"LYNX_evt.fits\", \"LYNX_proposal_img.fits\", emin=0.5, emax=10.0, overwrite=True)"
   ]
  },
  {
   "cell_type": "code",
   "execution_count": 25,
   "metadata": {},
   "outputs": [
    {
     "name": "stderr",
     "output_type": "stream",
     "text": [
      "WARNING: Cannot determine equinox. Assuming J2000. [aplpy.wcs_util]\n",
      "WARNING: Cannot determine equinox. Assuming J2000. [aplpy.wcs_util]\n"
     ]
    },
    {
     "data": {
      "image/png": "[encoded data removed]",
      "text/plain": [
       "<matplotlib.figure.Figure at 0x181ce4cdd8>"
      ]
     },
     "metadata": {},
     "output_type": "display_data"
    }
   ],
   "source": [
    "fig = aplpy.FITSFigure(\"LYNX_proposal_img.fits\")\n",
    "fig.show_colorscale(vmin=0.1, vmax=10.0, stretch='log', cmap=\"viridis\")\n",
    "fig.recenter(46.207, -0.137, width=0.005, height=0.005) # Centered on the source center with a width of 6 arcmin"
   ]
  },
  {
   "cell_type": "code",
   "execution_count": null,
   "metadata": {
    "collapsed": true
   },
   "outputs": [],
   "source": []
  }
 ],
 "metadata": {
  "kernelspec": {
   "display_name": "Python 3",
   "language": "python",
   "name": "python3"
  },
  "language_info": {
   "codemirror_mode": {
    "name": "ipython",
    "version": 3
   },
   "file_extension": ".py",
   "mimetype": "text/x-python",
   "name": "python",
   "nbconvert_exporter": "python",
   "pygments_lexer": "ipython3",
   "version": "3.6.3"
  }
 },
 "nbformat": 4,
 "nbformat_minor": 2
}
