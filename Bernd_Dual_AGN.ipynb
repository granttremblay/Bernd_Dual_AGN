{
 "cells": [
  {
   "cell_type": "markdown",
   "metadata": {},
   "source": [
    "### Making *Chandra* and *Lynx* Mock Observations for Bernd Husemann's cool Dual AGN at z=3.3"
   ]
  },
  {
   "cell_type": "markdown",
   "metadata": {},
   "source": [
    "The source is [LBQS 0302-0019](http://ned.ipac.caltech.edu/ui/?q=objsearch&corr_z=1&list_limit=5&extend=no&out_csys=Equatorial&hconst=73&objname=LBQS%200302-0019&out_equinox=J2000.0&img_stamp=YES&omegav=0.73&obj_sort=RA%20or%20Longitude&omegam=0.27&of=pre_text) (NED link). \n",
    "\n",
    "Bernd has discovered that this is a dual AGN at a common redshift of $z=3.3$, with an angular (physical) separation of $2.9''$ ($20$ kpc). We want to simulate a *Chandra* and *Lynx* observation of this system. These are MUSE Ly$\\alpha$ and HeII line images from his paper: \n",
    "\n",
    "\n",
    "![We want to make this](images/whatwewant.png)\n",
    "\n",
    "Unfortunately, although this is a very well studied AGN, the ROSAT observation is a no-go: \n",
    "\n",
    "![Damn](images/impey.png)\n",
    "\n",
    "... and the recent XMM observation is still proprietary: \n",
    "\n",
    "\n",
    "\n",
    "![Damn2](images/xmm.png)\n",
    "\n",
    "There is no existing *Chandra* observation. \n",
    "\n"
   ]
  },
  {
   "cell_type": "code",
   "execution_count": 1,
   "metadata": {
    "collapsed": true
   },
   "outputs": [],
   "source": [
    "import matplotlib.pyplot as plt\n",
    "import soxs"
   ]
  },
  {
   "cell_type": "code",
   "execution_count": 16,
   "metadata": {
    "collapsed": true
   },
   "outputs": [],
   "source": [
    "% matplotlib inline\n",
    "\n",
    "def styleplots():\n",
    "    \"\"\"\n",
    "    Make plots pretty and labels clear. \n",
    "    \"\"\"\n",
    "    plt.style.use('ggplot')\n",
    "\n",
    "    labelsizes = 15\n",
    "\n",
    "    plt.rcParams['font.size'] = labelsizes\n",
    "    plt.rcParams['axes.titlesize'] = 12\n",
    "    plt.rcParams['axes.labelsize'] = labelsizes\n",
    "    plt.rcParams['xtick.labelsize'] = labelsizes\n",
    "    plt.rcParams['ytick.labelsize'] = labelsizes\n",
    "    \n",
    "styleplots() # Make plots pretty"
   ]
  },
  {
   "cell_type": "markdown",
   "metadata": {},
   "source": [
    "### Create a Power-Law spectrum for the bright source\n",
    "\n",
    "__The largest uncertainty is the X-ray flux (normalization) of the main AGN__\n",
    "\n",
    "We'll need to play with this, Bernd!"
   ]
  },
  {
   "cell_type": "code",
   "execution_count": 26,
   "metadata": {
    "collapsed": true
   },
   "outputs": [],
   "source": [
    "bright_flux = 1.0e-11 # erg/s/cm**2\n",
    "faint_flux = bright_flux / 600"
   ]
  },
  {
   "cell_type": "code",
   "execution_count": 41,
   "metadata": {
    "collapsed": true
   },
   "outputs": [],
   "source": [
    "photon_index = 1.8 # Quasars tend to have alphas of ~1.8\n",
    "norm = 1.0e-5 # Normalization at 1 keV in source frame, in units of photons cm-2 s-1 keV-1\n",
    "zobs = 3.3\n",
    "emin = 0.1 # keV\n",
    "emax = 10.0 # keV\n",
    "nbins = 20000\n",
    "bright_spec = soxs.Spectrum.from_powerlaw(photon_index, zobs, norm, emin, emax, nbins)"
   ]
  },
  {
   "cell_type": "code",
   "execution_count": 42,
   "metadata": {},
   "outputs": [
    {
     "data": {
      "text/plain": [
       "Spectrum (0.1 keV - 10.0 keV)\n",
       "    Total Flux:\n",
       "    5.5669562051003044e-06 ph / (cm2 s)\n",
       "    5.532944284603415e-15 erg / (cm2 s)"
      ]
     },
     "execution_count": 42,
     "metadata": {},
     "output_type": "execute_result"
    }
   ],
   "source": [
    "bright_spec"
   ]
  },
  {
   "cell_type": "code",
   "execution_count": 43,
   "metadata": {
    "collapsed": true
   },
   "outputs": [],
   "source": [
    "faint_spec = soxs.Spectrum.from_powerlaw(photon_index, zobs, norm, emin, emax, nbins)"
   ]
  },
  {
   "cell_type": "markdown",
   "metadata": {},
   "source": [
    "Re-normalize the spectra using energy fluxes between 0.1 and 10 keV"
   ]
  },
  {
   "cell_type": "code",
   "execution_count": 44,
   "metadata": {
    "collapsed": true
   },
   "outputs": [],
   "source": [
    "bright_spec.rescale_flux(bright_flux, emin=emin, emax=emax, flux_type=\"energy\")\n",
    "faint_spec.rescale_flux(faint_flux, emin=emin, emax=emax, flux_type=\"energy\")"
   ]
  },
  {
   "cell_type": "code",
   "execution_count": 45,
   "metadata": {},
   "outputs": [
    {
     "data": {
      "text/plain": [
       "Spectrum (0.1 keV - 10.0 keV)\n",
       "    Total Flux:\n",
       "    0.01006147164827149 ph / (cm2 s)\n",
       "    1.0000000000000001e-11 erg / (cm2 s)"
      ]
     },
     "execution_count": 45,
     "metadata": {},
     "output_type": "execute_result"
    }
   ],
   "source": [
    "bright_spec"
   ]
  },
  {
   "cell_type": "markdown",
   "metadata": {},
   "source": [
    "Apply foreground absorption to both of them"
   ]
  },
  {
   "cell_type": "code",
   "execution_count": 37,
   "metadata": {
    "collapsed": true
   },
   "outputs": [],
   "source": [
    "n_h_1 = 10 # x10^20 atoms/cm^2\n",
    "n_h_2 = 10 # x10^20 atoms/cm^2"
   ]
  },
  {
   "cell_type": "code",
   "execution_count": 38,
   "metadata": {
    "collapsed": true
   },
   "outputs": [],
   "source": [
    "bright_spec.apply_foreground_absorption(n_h_1)\n",
    "faint_spec.apply_foreground_absorption(n_h_1)"
   ]
  },
  {
   "cell_type": "code",
   "execution_count": 39,
   "metadata": {},
   "outputs": [
    {
     "data": {
      "text/plain": [
       "<matplotlib.legend.Legend at 0x18209d6ef0>"
      ]
     },
     "execution_count": 39,
     "metadata": {},
     "output_type": "execute_result"
    },
    {
     "data": {
      "image/png": "[encoded data removed]",
      "text/plain": [
       "<matplotlib.figure.Figure at 0x18200ae048>"
      ]
     },
     "metadata": {},
     "output_type": "display_data"
    }
   ],
   "source": [
    "fig, ax = bright_spec.plot(xmin=0.1, xmax=20, ymin=1.0e-20, ymax=1.0e-4, \n",
    "                     label=\"$\\mathrm{kT\\ =\\ 6\\ keV,\\ Z\\ =\\ 0.3\\ Z_\\odot,\\ z\\ =\\ 0.05}$\")\n",
    "faint_spec.plot(label=\"$\\mathrm{kT\\ =\\ 4\\ keV,\\ Z\\ =\\ 0.4\\ Z_\\odot,\\ z\\ =\\ 0.1}$\",\n",
    "           fig=fig, ax=ax)\n",
    "ax.legend()\n"
   ]
  },
  {
   "cell_type": "markdown",
   "metadata": {
    "collapsed": true
   },
   "source": [
    "### Make a spatial model that resembles the actual source"
   ]
  },
  {
   "cell_type": "code",
   "execution_count": 40,
   "metadata": {
    "collapsed": true
   },
   "outputs": [],
   "source": [
    "ra0 = 30.0 # source RA in degrees\n",
    "dec0 = 45.0 # source Dec in degrees\n",
    "pt_src = soxs.PointSourceModel(ra0, dec0)\n"
   ]
  },
  {
   "cell_type": "code",
   "execution_count": null,
   "metadata": {
    "collapsed": true
   },
   "outputs": [],
   "source": []
  },
  {
   "cell_type": "code",
   "execution_count": null,
   "metadata": {
    "collapsed": true
   },
   "outputs": [],
   "source": []
  }
 ],
 "metadata": {
  "kernelspec": {
   "display_name": "Python 3",
   "language": "python",
   "name": "python3"
  },
  "language_info": {
   "codemirror_mode": {
    "name": "ipython",
    "version": 3
   },
   "file_extension": ".py",
   "mimetype": "text/x-python",
   "name": "python",
   "nbconvert_exporter": "python",
   "pygments_lexer": "ipython3",
   "version": "3.6.3"
  }
 },
 "nbformat": 4,
 "nbformat_minor": 2
}
